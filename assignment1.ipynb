{
 "cells": [
  {
   "cell_type": "code",
   "execution_count": 1,
   "id": "e4bfbc25",
   "metadata": {},
   "outputs": [
    {
     "data": {
      "text/plain": [
       "'innomatics'"
      ]
     },
     "execution_count": 1,
     "metadata": {},
     "output_type": "execute_result"
    }
   ],
   "source": [
    "s='INNOMATICS' #1st question\n",
    "s.lower()\n"
   ]
  },
  {
   "cell_type": "code",
   "execution_count": 2,
   "id": "b37fb031",
   "metadata": {},
   "outputs": [
    {
     "name": "stdout",
     "output_type": "stream",
     "text": [
      "I\n",
      "n\n",
      "N\n",
      "o\n",
      "M\n",
      "a\n",
      "T\n",
      "i\n",
      "C\n",
      "s\n"
     ]
    }
   ],
   "source": [
    "s='INNOMATICS' #2nd question\n",
    "k=0\n",
    "for i in range(len(s)):\n",
    "    if (i%2!=0 ):\n",
    "        k=s[i].lower()\n",
    "        print(k)\n",
    "    if (i%2==0):\n",
    "            k=s[i]\n",
    "            print(k)"
   ]
  },
  {
   "cell_type": "code",
   "execution_count": 3,
   "id": "95c08059",
   "metadata": {},
   "outputs": [
    {
     "name": "stdout",
     "output_type": "stream",
     "text": [
      "i\n",
      "N\n",
      "n\n",
      "O\n",
      "m\n",
      "A\n",
      "t\n",
      "I\n",
      "c\n",
      "S\n"
     ]
    }
   ],
   "source": [
    "s='INNOMATICS' #3rd question\n",
    "k=0\n",
    "for i in range(len(s)):\n",
    "    if (i%2!=0 ):\n",
    "        k=s[i]\n",
    "        print(k)\n",
    "    if (i%2==0):\n",
    "            k=s[i].lower()\n",
    "            print(k)"
   ]
  },
  {
   "cell_type": "code",
   "execution_count": 4,
   "id": "7bc77a0c",
   "metadata": {},
   "outputs": [
    {
     "name": "stdout",
     "output_type": "stream",
     "text": [
      "i\n",
      "N\n",
      "n\n",
      "O\n",
      "m\n",
      "A\n",
      "t\n",
      "I\n",
      "c\n",
      "S\n"
     ]
    }
   ],
   "source": [
    "s='innomatics' #4th question\n",
    "k=0\n",
    "for i in range(len(s)):\n",
    "    if (i%2==0 ):\n",
    "        k=s[i]\n",
    "        print(k)\n",
    "    if (i%2!=0):\n",
    "            k=s[i].upper()\n",
    "            print(k)"
   ]
  },
  {
   "cell_type": "code",
   "execution_count": 5,
   "id": "c01d5594",
   "metadata": {},
   "outputs": [
    {
     "name": "stdout",
     "output_type": "stream",
     "text": [
      "I\n",
      "n\n",
      "N\n",
      "o\n",
      "M\n",
      "a\n",
      "T\n",
      "i\n",
      "C\n",
      "s\n"
     ]
    }
   ],
   "source": [
    "s='innomatics' #5th question\n",
    "k=0\n",
    "for i in range(len(s)):\n",
    "    if (i%2==0 ):\n",
    "        k=s[i].upper()\n",
    "        print(k)\n",
    "    if (i%2!=0):\n",
    "            k=s[i]\n",
    "            print(k)"
   ]
  },
  {
   "cell_type": "code",
   "execution_count": 6,
   "id": "764cff15",
   "metadata": {},
   "outputs": [
    {
     "name": "stdout",
     "output_type": "stream",
     "text": [
      "my name is yashwanth,my age is 23,my phone no is 1234567890,my father name is sathyanarayana,my mother name is bhagya,\n"
     ]
    }
   ],
   "source": [
    "a=('my name is {},'.format('yashwanth')) #6th question\n",
    "b=('my age is {},'.format('23'))\n",
    "c=('my phone no is {},'.format('1234567890'))\n",
    "d=('my father name is {},'.format('sathyanarayana'))\n",
    "e=('my mother name is {},'.format('bhagya'))\n",
    "bio_data=a+b+c+d+e\n",
    "print(bio_data)"
   ]
  },
  {
   "cell_type": "code",
   "execution_count": 7,
   "id": "727210bd",
   "metadata": {},
   "outputs": [
    {
     "data": {
      "text/plain": [
       "2"
      ]
     },
     "execution_count": 7,
     "metadata": {},
     "output_type": "execute_result"
    }
   ],
   "source": [
    "a='yashwanth' #7th question\n",
    "a.count('a')"
   ]
  },
  {
   "cell_type": "code",
   "execution_count": 8,
   "id": "b3f7b96e",
   "metadata": {},
   "outputs": [
    {
     "name": "stdout",
     "output_type": "stream",
     "text": [
      "yashwanth , natraj , rishwanprasad\n"
     ]
    }
   ],
   "source": [
    "n1='yashwanth@gmail.com' #8th question\n",
    "n2='natraj@gmail.com'\n",
    "n3='rishwanprasad@gmail.com'\n",
    "print(n1[:-10:1],',',n2[:-10:1],',',n3[:-10:1])"
   ]
  },
  {
   "cell_type": "code",
   "execution_count": 9,
   "id": "55bab4eb",
   "metadata": {},
   "outputs": [
    {
     "data": {
      "text/plain": [
       "['yashwanth', ',natraj', ',rishwanprasad', '']"
      ]
     },
     "execution_count": 9,
     "metadata": {},
     "output_type": "execute_result"
    }
   ],
   "source": [
    "s='yashwanth@gmail.com,natraj@gmail.com,rishwanprasad@gmail.com' #8th question\n",
    "s.split('@gmail.com')"
   ]
  },
  {
   "cell_type": "code",
   "execution_count": 10,
   "id": "36f8988d",
   "metadata": {},
   "outputs": [
    {
     "name": "stdout",
     "output_type": "stream",
     "text": [
      "bcdfghjklmnpqrstvwxyz"
     ]
    }
   ],
   "source": [
    "alphabets='abcdefghijklmnopqrstuvwxyz' #9th question\n",
    "vowel='aeiou'\n",
    "k=''\n",
    "for i in alphabets:\n",
    "        if i not in vowel:\n",
    "            print(i,end='')"
   ]
  },
  {
   "cell_type": "code",
   "execution_count": 11,
   "id": "4692debe",
   "metadata": {},
   "outputs": [
    {
     "name": "stdout",
     "output_type": "stream",
     "text": [
      "enter the word innomatics\n"
     ]
    },
    {
     "data": {
      "text/plain": [
       "2"
      ]
     },
     "execution_count": 11,
     "metadata": {},
     "output_type": "execute_result"
    }
   ],
   "source": [
    "start=\"welcome to Innomatics , innomatics awesome,isn't it\" #10th question\n",
    "start=start.upper()\n",
    "word=input('enter the word ')\n",
    "word=word.upper()\n",
    "start.count(word)"
   ]
  }
 ],
 "metadata": {
  "kernelspec": {
   "display_name": "Python 3 (ipykernel)",
   "language": "python",
   "name": "python3"
  },
  "language_info": {
   "codemirror_mode": {
    "name": "ipython",
    "version": 3
   },
   "file_extension": ".py",
   "mimetype": "text/x-python",
   "name": "python",
   "nbconvert_exporter": "python",
   "pygments_lexer": "ipython3",
   "version": "3.9.13"
  }
 },
 "nbformat": 4,
 "nbformat_minor": 5
}
